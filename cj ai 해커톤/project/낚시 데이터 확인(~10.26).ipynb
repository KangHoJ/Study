{
 "cells": [
  {
   "cell_type": "code",
   "execution_count": 1,
   "metadata": {},
   "outputs": [],
   "source": [
    "import pandas as pd\n",
    "import numpy as np\n",
    "import seaborn as sns\n",
    "import matplotlib.pyplot as plt"
   ]
  },
  {
   "cell_type": "code",
   "execution_count": 2,
   "metadata": {},
   "outputs": [],
   "source": [
    "df = pd.read_csv('df_final.csv')"
   ]
  },
  {
   "cell_type": "code",
   "execution_count": 3,
   "metadata": {},
   "outputs": [
    {
     "data": {
      "text/html": [
       "<div>\n",
       "<style scoped>\n",
       "    .dataframe tbody tr th:only-of-type {\n",
       "        vertical-align: middle;\n",
       "    }\n",
       "\n",
       "    .dataframe tbody tr th {\n",
       "        vertical-align: top;\n",
       "    }\n",
       "\n",
       "    .dataframe thead th {\n",
       "        text-align: right;\n",
       "    }\n",
       "</style>\n",
       "<table border=\"1\" class=\"dataframe\">\n",
       "  <thead>\n",
       "    <tr style=\"text-align: right;\">\n",
       "      <th></th>\n",
       "      <th>Unnamed: 0</th>\n",
       "      <th>newsID</th>\n",
       "      <th>newsCategory</th>\n",
       "      <th>newsSubcategory</th>\n",
       "      <th>newsTitle</th>\n",
       "      <th>newsSubTitle</th>\n",
       "      <th>newsContent</th>\n",
       "      <th>partNum</th>\n",
       "      <th>useType</th>\n",
       "      <th>processType</th>\n",
       "      <th>processPattern</th>\n",
       "      <th>processLevel</th>\n",
       "      <th>sentenceCount</th>\n",
       "      <th>sentenceInfo</th>\n",
       "    </tr>\n",
       "  </thead>\n",
       "  <tbody>\n",
       "    <tr>\n",
       "      <th>0</th>\n",
       "      <td>0</td>\n",
       "      <td>EC_M05_241847</td>\n",
       "      <td>경제</td>\n",
       "      <td>중기밴처</td>\n",
       "      <td>CCTV 영상으로 핫해진 에스원</td>\n",
       "      <td>에스원 자체 제작 영상, 유튜브·틱톡 조회수 3500만회 돌파 유튜버들과 협업한 콘...</td>\n",
       "      <td>#. 서울의 한 카페, 아르바이트생이 마감 청소 중 춤을 추고 있다.\\n춤 솜씨가 ...</td>\n",
       "      <td>P1</td>\n",
       "      <td>1</td>\n",
       "      <td>A</td>\n",
       "      <td>0</td>\n",
       "      <td>하</td>\n",
       "      <td>15</td>\n",
       "      <td>[{'sentenceNo': 1, 'sentenceContent': '#. 서울의 ...</td>\n",
       "    </tr>\n",
       "    <tr>\n",
       "      <th>1</th>\n",
       "      <td>1</td>\n",
       "      <td>EC_M05_241848</td>\n",
       "      <td>경제</td>\n",
       "      <td>유통</td>\n",
       "      <td>홈플러스, 신년 '반값, 하나 더 데이' 행사…하루 빠른 31일 시작</td>\n",
       "      <td>NaN</td>\n",
       "      <td>홈플러스는 새해 첫 쇼핑 축제 '반값, 하나 더 데이' 행사를 경쟁사 대비 하루 빠...</td>\n",
       "      <td>P1</td>\n",
       "      <td>1</td>\n",
       "      <td>A</td>\n",
       "      <td>0</td>\n",
       "      <td>하</td>\n",
       "      <td>8</td>\n",
       "      <td>[{'sentenceNo': 1, 'sentenceContent': \"홈플러스는 새...</td>\n",
       "    </tr>\n",
       "    <tr>\n",
       "      <th>2</th>\n",
       "      <td>2</td>\n",
       "      <td>EC_M05_241851</td>\n",
       "      <td>경제</td>\n",
       "      <td>유통</td>\n",
       "      <td>제주삼다수, 글로벌 품질 인증 갱신</td>\n",
       "      <td>NaN</td>\n",
       "      <td>제주특별자치도개발공사는 제주삼다수의 품질경영표준 ISO9001을 갱신함과 동시에 미...</td>\n",
       "      <td>P1</td>\n",
       "      <td>1</td>\n",
       "      <td>A</td>\n",
       "      <td>0</td>\n",
       "      <td>하</td>\n",
       "      <td>6</td>\n",
       "      <td>[{'sentenceNo': 1, 'sentenceContent': '제주특별자치도...</td>\n",
       "    </tr>\n",
       "  </tbody>\n",
       "</table>\n",
       "</div>"
      ],
      "text/plain": [
       "   Unnamed: 0         newsID newsCategory newsSubcategory  \\\n",
       "0           0  EC_M05_241847           경제            중기밴처   \n",
       "1           1  EC_M05_241848           경제              유통   \n",
       "2           2  EC_M05_241851           경제              유통   \n",
       "\n",
       "                                newsTitle  \\\n",
       "0                       CCTV 영상으로 핫해진 에스원   \n",
       "1  홈플러스, 신년 '반값, 하나 더 데이' 행사…하루 빠른 31일 시작   \n",
       "2                     제주삼다수, 글로벌 품질 인증 갱신   \n",
       "\n",
       "                                        newsSubTitle  \\\n",
       "0  에스원 자체 제작 영상, 유튜브·틱톡 조회수 3500만회 돌파 유튜버들과 협업한 콘...   \n",
       "1                                                NaN   \n",
       "2                                                NaN   \n",
       "\n",
       "                                         newsContent partNum  useType  \\\n",
       "0  #. 서울의 한 카페, 아르바이트생이 마감 청소 중 춤을 추고 있다.\\n춤 솜씨가 ...      P1        1   \n",
       "1  홈플러스는 새해 첫 쇼핑 축제 '반값, 하나 더 데이' 행사를 경쟁사 대비 하루 빠...      P1        1   \n",
       "2  제주특별자치도개발공사는 제주삼다수의 품질경영표준 ISO9001을 갱신함과 동시에 미...      P1        1   \n",
       "\n",
       "  processType  processPattern processLevel  sentenceCount  \\\n",
       "0           A               0            하             15   \n",
       "1           A               0            하              8   \n",
       "2           A               0            하              6   \n",
       "\n",
       "                                        sentenceInfo  \n",
       "0  [{'sentenceNo': 1, 'sentenceContent': '#. 서울의 ...  \n",
       "1  [{'sentenceNo': 1, 'sentenceContent': \"홈플러스는 새...  \n",
       "2  [{'sentenceNo': 1, 'sentenceContent': '제주특별자치도...  "
      ]
     },
     "execution_count": 3,
     "metadata": {},
     "output_type": "execute_result"
    }
   ],
   "source": [
    "df.head(3)"
   ]
  },
  {
   "cell_type": "code",
   "execution_count": 4,
   "metadata": {},
   "outputs": [],
   "source": [
    "df = df[['newsTitle','newsSubTitle','newsContent','useType','processPattern']]\n",
    "# df.to_csv('new_df_final.csv')"
   ]
  },
  {
   "cell_type": "code",
   "execution_count": 5,
   "metadata": {},
   "outputs": [
    {
     "data": {
      "text/plain": [
       "useType\n",
       "0    223548\n",
       "1    206502\n",
       "Name: count, dtype: int64"
      ]
     },
     "execution_count": 5,
     "metadata": {},
     "output_type": "execute_result"
    }
   ],
   "source": [
    "df[df['newsSubTitle'].isnull()]['useType'].value_counts()"
   ]
  },
  {
   "cell_type": "code",
   "execution_count": 18,
   "metadata": {},
   "outputs": [
    {
     "data": {
      "text/plain": [
       "useType\n",
       "0    109478\n",
       "1    107591\n",
       "Name: count, dtype: int64"
      ]
     },
     "execution_count": 18,
     "metadata": {},
     "output_type": "execute_result"
    }
   ],
   "source": [
    "df[~df['newsSubTitle'].isnull()]['useType'].value_counts()"
   ]
  },
  {
   "cell_type": "code",
   "execution_count": 6,
   "metadata": {},
   "outputs": [
    {
     "data": {
      "text/plain": [
       "newsTitle              0\n",
       "newsSubTitle      430050\n",
       "newsContent            0\n",
       "useType                0\n",
       "processPattern         0\n",
       "dtype: int64"
      ]
     },
     "execution_count": 6,
     "metadata": {},
     "output_type": "execute_result"
    }
   ],
   "source": [
    "df.isnull().sum()"
   ]
  },
  {
   "cell_type": "code",
   "execution_count": 7,
   "metadata": {},
   "outputs": [],
   "source": [
    "df.dropna(subset=['newsSubTitle'], inplace=True)"
   ]
  },
  {
   "cell_type": "code",
   "execution_count": 12,
   "metadata": {},
   "outputs": [],
   "source": [
    "df.reset_index(inplace=True)"
   ]
  },
  {
   "cell_type": "code",
   "execution_count": 17,
   "metadata": {},
   "outputs": [
    {
     "data": {
      "text/plain": [
       "processPattern\n",
       "0     107591\n",
       "99     78973\n",
       "11      7695\n",
       "12      4829\n",
       "24      4704\n",
       "23      2686\n",
       "15      2098\n",
       "14      2064\n",
       "22      1917\n",
       "13      1889\n",
       "21      1490\n",
       "16      1133\n",
       "Name: count, dtype: int64"
      ]
     },
     "execution_count": 17,
     "metadata": {},
     "output_type": "execute_result"
    }
   ],
   "source": [
    "df['processPattern']"
   ]
  },
  {
   "cell_type": "code",
   "execution_count": 26,
   "metadata": {},
   "outputs": [],
   "source": [
    "df.to_csv('df_final_new.csv')"
   ]
  },
  {
   "cell_type": "code",
   "execution_count": 5,
   "metadata": {},
   "outputs": [
    {
     "data": {
      "text/plain": [
       "newsCategory           0\n",
       "newsTitle              0\n",
       "newsSubTitle      430050\n",
       "newsContent            0\n",
       "useType                0\n",
       "partNum                0\n",
       "processPattern         0\n",
       "sentenceCount          0\n",
       "dtype: int64"
      ]
     },
     "execution_count": 5,
     "metadata": {},
     "output_type": "execute_result"
    }
   ],
   "source": [
    "df.isnull().sum() # newsSubTitle 결측치를 어떻게 할건지  ??"
   ]
  },
  {
   "cell_type": "markdown",
   "metadata": {},
   "source": [
    "## 밑에부분은 데이터 확인 부분 !(정합성 검정)"
   ]
  },
  {
   "cell_type": "code",
   "execution_count": 6,
   "metadata": {},
   "outputs": [
    {
     "data": {
      "text/plain": [
       "<Axes: xlabel='partNum', ylabel='count'>"
      ]
     },
     "execution_count": 6,
     "metadata": {},
     "output_type": "execute_result"
    },
    {
     "data": {
      "image/png": "[encoded data removed]",
      "text/plain": [
       "<Figure size 640x480 with 1 Axes>"
      ]
     },
     "metadata": {},
     "output_type": "display_data"
    }
   ],
   "source": [
    "sns.countplot(x='partNum',data=df)"
   ]
  },
  {
   "cell_type": "code",
   "execution_count": 7,
   "metadata": {},
   "outputs": [
    {
     "data": {
      "text/plain": [
       "568709    6336\n",
       "640279    6300\n",
       "554902    5996\n",
       "546289    5887\n",
       "396949    5808\n",
       "          ... \n",
       "465449     163\n",
       "80978      163\n",
       "376123     163\n",
       "547621     141\n",
       "205837     118\n",
       "Name: newsContent, Length: 647119, dtype: int64"
      ]
     },
     "execution_count": 7,
     "metadata": {},
     "output_type": "execute_result"
    }
   ],
   "source": [
    "df['newsContent'].apply(lambda x : len(x)).sort_values(ascending=False) # 6000자 이상 되는것도 있음 "
   ]
  },
  {
   "cell_type": "code",
   "execution_count": 8,
   "metadata": {},
   "outputs": [
    {
     "data": {
      "text/plain": [
       "useType\n",
       "0    333026\n",
       "1    314093\n",
       "Name: count, dtype: int64"
      ]
     },
     "execution_count": 8,
     "metadata": {},
     "output_type": "execute_result"
    }
   ],
   "source": [
    "df['useType'].value_counts()"
   ]
  },
  {
   "cell_type": "code",
   "execution_count": 9,
   "metadata": {},
   "outputs": [
    {
     "data": {
      "text/plain": [
       "processPattern\n",
       "0     314093\n",
       "99    242797\n",
       "24     19821\n",
       "11     18104\n",
       "23     12233\n",
       "12     10580\n",
       "21      7333\n",
       "22      5731\n",
       "15      4968\n",
       "14      4643\n",
       "13      4290\n",
       "16      2526\n",
       "Name: count, dtype: int64"
      ]
     },
     "execution_count": 9,
     "metadata": {},
     "output_type": "execute_result"
    }
   ],
   "source": [
    "df['processPattern'].value_counts()  # 유형 없는것들이 많은데 학습이 잘 될까 ?"
   ]
  },
  {
   "cell_type": "markdown",
   "metadata": {},
   "source": [
    "## 낚시 데이터 잘 생성 된건지 ?"
   ]
  },
  {
   "cell_type": "markdown",
   "metadata": {},
   "source": [
    "### 1. 본문 , 제목 글자/단어 수 비교"
   ]
  },
  {
   "cell_type": "code",
   "execution_count": 10,
   "metadata": {},
   "outputs": [],
   "source": [
    "df_o = df[df['useType']==0]    #낚시성기사\n",
    "df_x = df[df['useType']==1]    #낚시성기사x"
   ]
  },
  {
   "cell_type": "code",
   "execution_count": 11,
   "metadata": {},
   "outputs": [
    {
     "data": {
      "text/plain": [
       "((333026, 8), (314093, 8))"
      ]
     },
     "execution_count": 11,
     "metadata": {},
     "output_type": "execute_result"
    }
   ],
   "source": [
    "df_o.shape , df_x.shape"
   ]
  },
  {
   "cell_type": "code",
   "execution_count": 12,
   "metadata": {},
   "outputs": [
    {
     "data": {
      "text/html": [
       "<div>\n",
       "<style scoped>\n",
       "    .dataframe tbody tr th:only-of-type {\n",
       "        vertical-align: middle;\n",
       "    }\n",
       "\n",
       "    .dataframe tbody tr th {\n",
       "        vertical-align: top;\n",
       "    }\n",
       "\n",
       "    .dataframe thead th {\n",
       "        text-align: right;\n",
       "    }\n",
       "</style>\n",
       "<table border=\"1\" class=\"dataframe\">\n",
       "  <thead>\n",
       "    <tr style=\"text-align: right;\">\n",
       "      <th></th>\n",
       "      <th>newsCategory</th>\n",
       "      <th>newsTitle</th>\n",
       "      <th>newsSubTitle</th>\n",
       "      <th>newsContent</th>\n",
       "      <th>useType</th>\n",
       "      <th>partNum</th>\n",
       "      <th>processPattern</th>\n",
       "      <th>sentenceCount</th>\n",
       "    </tr>\n",
       "  </thead>\n",
       "  <tbody>\n",
       "    <tr>\n",
       "      <th>133856</th>\n",
       "      <td>경제</td>\n",
       "      <td>[오늘의 이슈] 살충제 달걀 파동 속 bhc치킨 연간 6억규모 사회공헌기금 만들어</td>\n",
       "      <td>NaN</td>\n",
       "      <td>한국과 유럽에서 살충제 계란 문제가 불거져 치킨 업계가 어려움에 빠진 가운데 bhc...</td>\n",
       "      <td>0</td>\n",
       "      <td>P2</td>\n",
       "      <td>99</td>\n",
       "      <td>10</td>\n",
       "    </tr>\n",
       "    <tr>\n",
       "      <th>133857</th>\n",
       "      <td>경제</td>\n",
       "      <td>윤리 이슈로 곤욕 프랜차이즈업계 사회책임에 혼신</td>\n",
       "      <td>NaN</td>\n",
       "      <td>윤리 이슈로 곤욕을 치른 프랜차이즈 업계가 사회 책임 활동에 온 힘을 다하고 있다....</td>\n",
       "      <td>0</td>\n",
       "      <td>P2</td>\n",
       "      <td>99</td>\n",
       "      <td>18</td>\n",
       "    </tr>\n",
       "    <tr>\n",
       "      <th>133858</th>\n",
       "      <td>경제</td>\n",
       "      <td>'우린 가맹점에 대한 사회적 책임을 준수합니다'</td>\n",
       "      <td>NaN</td>\n",
       "      <td>가맹점에 대한 사회적 책임을 활동을 펴는 가맹점 본부들이 늘어나고 있다.\\n김상조 ...</td>\n",
       "      <td>0</td>\n",
       "      <td>P2</td>\n",
       "      <td>99</td>\n",
       "      <td>25</td>\n",
       "    </tr>\n",
       "  </tbody>\n",
       "</table>\n",
       "</div>"
      ],
      "text/plain": [
       "       newsCategory                                      newsTitle  \\\n",
       "133856           경제  [오늘의 이슈] 살충제 달걀 파동 속 bhc치킨 연간 6억규모 사회공헌기금 만들어   \n",
       "133857           경제                     윤리 이슈로 곤욕 프랜차이즈업계 사회책임에 혼신   \n",
       "133858           경제                     '우린 가맹점에 대한 사회적 책임을 준수합니다'   \n",
       "\n",
       "       newsSubTitle                                        newsContent  \\\n",
       "133856          NaN  한국과 유럽에서 살충제 계란 문제가 불거져 치킨 업계가 어려움에 빠진 가운데 bhc...   \n",
       "133857          NaN  윤리 이슈로 곤욕을 치른 프랜차이즈 업계가 사회 책임 활동에 온 힘을 다하고 있다....   \n",
       "133858          NaN  가맹점에 대한 사회적 책임을 활동을 펴는 가맹점 본부들이 늘어나고 있다.\\n김상조 ...   \n",
       "\n",
       "        useType partNum  processPattern  sentenceCount  \n",
       "133856        0      P2              99             10  \n",
       "133857        0      P2              99             18  \n",
       "133858        0      P2              99             25  "
      ]
     },
     "execution_count": 12,
     "metadata": {},
     "output_type": "execute_result"
    }
   ],
   "source": [
    "df_o.head(3)"
   ]
  },
  {
   "cell_type": "code",
   "execution_count": 13,
   "metadata": {},
   "outputs": [
    {
     "data": {
      "text/html": [
       "<div>\n",
       "<style scoped>\n",
       "    .dataframe tbody tr th:only-of-type {\n",
       "        vertical-align: middle;\n",
       "    }\n",
       "\n",
       "    .dataframe tbody tr th {\n",
       "        vertical-align: top;\n",
       "    }\n",
       "\n",
       "    .dataframe thead th {\n",
       "        text-align: right;\n",
       "    }\n",
       "</style>\n",
       "<table border=\"1\" class=\"dataframe\">\n",
       "  <thead>\n",
       "    <tr style=\"text-align: right;\">\n",
       "      <th></th>\n",
       "      <th>newsCategory</th>\n",
       "      <th>newsTitle</th>\n",
       "      <th>newsSubTitle</th>\n",
       "      <th>newsContent</th>\n",
       "      <th>useType</th>\n",
       "      <th>partNum</th>\n",
       "      <th>processPattern</th>\n",
       "      <th>sentenceCount</th>\n",
       "    </tr>\n",
       "  </thead>\n",
       "  <tbody>\n",
       "    <tr>\n",
       "      <th>0</th>\n",
       "      <td>경제</td>\n",
       "      <td>CCTV 영상으로 핫해진 에스원</td>\n",
       "      <td>에스원 자체 제작 영상, 유튜브·틱톡 조회수 3500만회 돌파 유튜버들과 협업한 콘...</td>\n",
       "      <td>#. 서울의 한 카페, 아르바이트생이 마감 청소 중 춤을 추고 있다.\\n춤 솜씨가 ...</td>\n",
       "      <td>1</td>\n",
       "      <td>P1</td>\n",
       "      <td>0</td>\n",
       "      <td>15</td>\n",
       "    </tr>\n",
       "    <tr>\n",
       "      <th>1</th>\n",
       "      <td>경제</td>\n",
       "      <td>홈플러스, 신년 '반값, 하나 더 데이' 행사…하루 빠른 31일 시작</td>\n",
       "      <td>NaN</td>\n",
       "      <td>홈플러스는 새해 첫 쇼핑 축제 '반값, 하나 더 데이' 행사를 경쟁사 대비 하루 빠...</td>\n",
       "      <td>1</td>\n",
       "      <td>P1</td>\n",
       "      <td>0</td>\n",
       "      <td>8</td>\n",
       "    </tr>\n",
       "    <tr>\n",
       "      <th>2</th>\n",
       "      <td>경제</td>\n",
       "      <td>제주삼다수, 글로벌 품질 인증 갱신</td>\n",
       "      <td>NaN</td>\n",
       "      <td>제주특별자치도개발공사는 제주삼다수의 품질경영표준 ISO9001을 갱신함과 동시에 미...</td>\n",
       "      <td>1</td>\n",
       "      <td>P1</td>\n",
       "      <td>0</td>\n",
       "      <td>6</td>\n",
       "    </tr>\n",
       "  </tbody>\n",
       "</table>\n",
       "</div>"
      ],
      "text/plain": [
       "  newsCategory                               newsTitle  \\\n",
       "0           경제                       CCTV 영상으로 핫해진 에스원   \n",
       "1           경제  홈플러스, 신년 '반값, 하나 더 데이' 행사…하루 빠른 31일 시작   \n",
       "2           경제                     제주삼다수, 글로벌 품질 인증 갱신   \n",
       "\n",
       "                                        newsSubTitle  \\\n",
       "0  에스원 자체 제작 영상, 유튜브·틱톡 조회수 3500만회 돌파 유튜버들과 협업한 콘...   \n",
       "1                                                NaN   \n",
       "2                                                NaN   \n",
       "\n",
       "                                         newsContent  useType partNum  \\\n",
       "0  #. 서울의 한 카페, 아르바이트생이 마감 청소 중 춤을 추고 있다.\\n춤 솜씨가 ...        1      P1   \n",
       "1  홈플러스는 새해 첫 쇼핑 축제 '반값, 하나 더 데이' 행사를 경쟁사 대비 하루 빠...        1      P1   \n",
       "2  제주특별자치도개발공사는 제주삼다수의 품질경영표준 ISO9001을 갱신함과 동시에 미...        1      P1   \n",
       "\n",
       "   processPattern  sentenceCount  \n",
       "0               0             15  \n",
       "1               0              8  \n",
       "2               0              6  "
      ]
     },
     "execution_count": 13,
     "metadata": {},
     "output_type": "execute_result"
    }
   ],
   "source": [
    "df_x.head(3)"
   ]
  },
  {
   "cell_type": "code",
   "execution_count": 14,
   "metadata": {},
   "outputs": [
    {
     "name": "stderr",
     "output_type": "stream",
     "text": [
      "C:\\Users\\User\\AppData\\Local\\Temp\\ipykernel_11372\\1838152390.py:1: SettingWithCopyWarning: \n",
      "A value is trying to be set on a copy of a slice from a DataFrame.\n",
      "Try using .loc[row_indexer,col_indexer] = value instead\n",
      "\n",
      "See the caveats in the documentation: https://pandas.pydata.org/pandas-docs/stable/user_guide/indexing.html#returning-a-view-versus-a-copy\n",
      "  df_o['본문글자수'] = df_o['newsContent'].map(lambda x : len(x))\n",
      "C:\\Users\\User\\AppData\\Local\\Temp\\ipykernel_11372\\1838152390.py:2: SettingWithCopyWarning: \n",
      "A value is trying to be set on a copy of a slice from a DataFrame.\n",
      "Try using .loc[row_indexer,col_indexer] = value instead\n",
      "\n",
      "See the caveats in the documentation: https://pandas.pydata.org/pandas-docs/stable/user_guide/indexing.html#returning-a-view-versus-a-copy\n",
      "  df_x['본문글자수'] = df_x['newsContent'].map(lambda x : len(x))\n",
      "C:\\Users\\User\\AppData\\Local\\Temp\\ipykernel_11372\\1838152390.py:3: SettingWithCopyWarning: \n",
      "A value is trying to be set on a copy of a slice from a DataFrame.\n",
      "Try using .loc[row_indexer,col_indexer] = value instead\n",
      "\n",
      "See the caveats in the documentation: https://pandas.pydata.org/pandas-docs/stable/user_guide/indexing.html#returning-a-view-versus-a-copy\n",
      "  df_o['제목글자수'] = df_o['newsTitle'].map(lambda x : len(x))\n",
      "C:\\Users\\User\\AppData\\Local\\Temp\\ipykernel_11372\\1838152390.py:4: SettingWithCopyWarning: \n",
      "A value is trying to be set on a copy of a slice from a DataFrame.\n",
      "Try using .loc[row_indexer,col_indexer] = value instead\n",
      "\n",
      "See the caveats in the documentation: https://pandas.pydata.org/pandas-docs/stable/user_guide/indexing.html#returning-a-view-versus-a-copy\n",
      "  df_x['제목글자수'] = df_x['newsTitle'].map(lambda x : len(x))\n"
     ]
    }
   ],
   "source": [
    "df_o['본문글자수'] = df_o['newsContent'].map(lambda x : len(x))\n",
    "df_x['본문글자수'] = df_x['newsContent'].map(lambda x : len(x))\n",
    "df_o['제목글자수'] = df_o['newsTitle'].map(lambda x : len(x))\n",
    "df_x['제목글자수'] = df_x['newsTitle'].map(lambda x : len(x))"
   ]
  },
  {
   "cell_type": "code",
   "execution_count": 23,
   "metadata": {},
   "outputs": [
    {
     "ename": "SyntaxError",
     "evalue": "f-string: unmatched '[' (1092658829.py, line 1)",
     "output_type": "error",
     "traceback": [
      "\u001b[1;36m  Cell \u001b[1;32mIn[23], line 1\u001b[1;36m\u001b[0m\n\u001b[1;33m    print(f'낚시기사x 본문글자수 : {df_x['본문글자수'].mean()}')\u001b[0m\n\u001b[1;37m                                 ^\u001b[0m\n\u001b[1;31mSyntaxError\u001b[0m\u001b[1;31m:\u001b[0m f-string: unmatched '['\n"
     ]
    }
   ],
   "source": [
    "print(f'낚시기사x 본문글자수 : {df_x[\"본문글자수\"].mean()}')\n",
    "# print(f'낚시기사 본문글자수 : {df_o['본문글자수'].mean()}')\n",
    "# print(f'낚시기사x 제목글자수 : {df_x['제목글자수'].mean()}')\n",
    "# print(f'낚시기사 제목글자수 : {df_o['제목글자수'].mean()}')"
   ]
  },
  {
   "cell_type": "markdown",
   "metadata": {},
   "source": [
    "-> 낚시기사가 본문 , 제목 글자수 미세하게 더 작다 "
   ]
  },
  {
   "cell_type": "code",
   "execution_count": 22,
   "metadata": {},
   "outputs": [
    {
     "name": "stderr",
     "output_type": "stream",
     "text": [
      "C:\\Users\\User\\AppData\\Local\\Temp\\ipykernel_11372\\2096709625.py:1: SettingWithCopyWarning: \n",
      "A value is trying to be set on a copy of a slice from a DataFrame.\n",
      "Try using .loc[row_indexer,col_indexer] = value instead\n",
      "\n",
      "See the caveats in the documentation: https://pandas.pydata.org/pandas-docs/stable/user_guide/indexing.html#returning-a-view-versus-a-copy\n",
      "  df_o['newsContent'] = df_o['newsContent'].str.replace('\\n', ' ')\n",
      "C:\\Users\\User\\AppData\\Local\\Temp\\ipykernel_11372\\2096709625.py:2: SettingWithCopyWarning: \n",
      "A value is trying to be set on a copy of a slice from a DataFrame.\n",
      "Try using .loc[row_indexer,col_indexer] = value instead\n",
      "\n",
      "See the caveats in the documentation: https://pandas.pydata.org/pandas-docs/stable/user_guide/indexing.html#returning-a-view-versus-a-copy\n",
      "  df_o['newsContent'] = df_o['newsContent'].str.replace('\\\\', ' ')\n",
      "C:\\Users\\User\\AppData\\Local\\Temp\\ipykernel_11372\\2096709625.py:3: SettingWithCopyWarning: \n",
      "A value is trying to be set on a copy of a slice from a DataFrame.\n",
      "Try using .loc[row_indexer,col_indexer] = value instead\n",
      "\n",
      "See the caveats in the documentation: https://pandas.pydata.org/pandas-docs/stable/user_guide/indexing.html#returning-a-view-versus-a-copy\n",
      "  df_o['newsContent'] = df_o['newsContent'].str.replace('.', ' ')\n",
      "C:\\Users\\User\\AppData\\Local\\Temp\\ipykernel_11372\\2096709625.py:5: SettingWithCopyWarning: \n",
      "A value is trying to be set on a copy of a slice from a DataFrame.\n",
      "Try using .loc[row_indexer,col_indexer] = value instead\n",
      "\n",
      "See the caveats in the documentation: https://pandas.pydata.org/pandas-docs/stable/user_guide/indexing.html#returning-a-view-versus-a-copy\n",
      "  df_x['newsContent'] = df_x['newsContent'].str.replace('\\n', ' ')\n",
      "C:\\Users\\User\\AppData\\Local\\Temp\\ipykernel_11372\\2096709625.py:6: SettingWithCopyWarning: \n",
      "A value is trying to be set on a copy of a slice from a DataFrame.\n",
      "Try using .loc[row_indexer,col_indexer] = value instead\n",
      "\n",
      "See the caveats in the documentation: https://pandas.pydata.org/pandas-docs/stable/user_guide/indexing.html#returning-a-view-versus-a-copy\n",
      "  df_x['newsContent'] = df_x['newsContent'].str.replace('\\\\', ' ')\n",
      "C:\\Users\\User\\AppData\\Local\\Temp\\ipykernel_11372\\2096709625.py:7: SettingWithCopyWarning: \n",
      "A value is trying to be set on a copy of a slice from a DataFrame.\n",
      "Try using .loc[row_indexer,col_indexer] = value instead\n",
      "\n",
      "See the caveats in the documentation: https://pandas.pydata.org/pandas-docs/stable/user_guide/indexing.html#returning-a-view-versus-a-copy\n",
      "  df_x['newsContent'] = df_x['newsContent'].str.replace('.', ' ')\n"
     ]
    }
   ],
   "source": [
    "df_o['newsContent'] = df_o['newsContent'].str.replace('\\n', ' ')\n",
    "df_o['newsContent'] = df_o['newsContent'].str.replace('\\\\', ' ')\n",
    "df_o['newsContent'] = df_o['newsContent'].str.replace('.', ' ')\n",
    "\n",
    "df_x['newsContent'] = df_x['newsContent'].str.replace('\\n', ' ')\n",
    "df_x['newsContent'] = df_x['newsContent'].str.replace('\\\\', ' ')\n",
    "df_x['newsContent'] = df_x['newsContent'].str.replace('.', ' ')                                                  "
   ]
  },
  {
   "cell_type": "code",
   "execution_count": 24,
   "metadata": {},
   "outputs": [
    {
     "name": "stderr",
     "output_type": "stream",
     "text": [
      "C:\\Users\\User\\AppData\\Local\\Temp\\ipykernel_11372\\2900813070.py:1: SettingWithCopyWarning: \n",
      "A value is trying to be set on a copy of a slice from a DataFrame.\n",
      "Try using .loc[row_indexer,col_indexer] = value instead\n",
      "\n",
      "See the caveats in the documentation: https://pandas.pydata.org/pandas-docs/stable/user_guide/indexing.html#returning-a-view-versus-a-copy\n",
      "  df_o['본문 단어'] = df_o['newsContent'].apply(lambda x: x.split())\n"
     ]
    }
   ],
   "source": [
    "df_o['본문 단어'] = df_o['newsContent'].apply(lambda x: x.split())\n",
    "df_x['본문 단어'] = df_x['newsContent'].apply(lambda x: x.split())\n",
    "df_o['본문 단어 수'] = df_o['newsContent'].apply(lambda x: len(x.split()))\n",
    "df_x['본문 단어 수'] = df_x['newsContent'].apply(lambda x: len(x.split()))"
   ]
  },
  {
   "cell_type": "code",
   "execution_count": 24,
   "metadata": {},
   "outputs": [
    {
     "name": "stdout",
     "output_type": "stream",
     "text": [
      "낚시기사x 본문 단어수 : 243.8746485913408  \n",
      "낚시기사 본문 단어수 : 242.40310065880743  \n"
     ]
    }
   ],
   "source": [
    "print(f'낚시기사x 본문 단어수 : {df_x['본문 단어 수'].mean()}  ')\n",
    "print(f'낚시기사 본문 단어수 : {df_o['본문 단어 수'].mean()}  ')"
   ]
  },
  {
   "cell_type": "code",
   "execution_count": 25,
   "metadata": {},
   "outputs": [
    {
     "name": "stdout",
     "output_type": "stream",
     "text": [
      "낚시기사x 본문 문장수 : 14.001120687185006 \n",
      "낚시기사 본문 문장수 : 13.818776912313153 \n"
     ]
    }
   ],
   "source": [
    "print(f'낚시기사x 본문 문장수 : {df_x['sentenceCount'].mean()} ')\n",
    "print(f'낚시기사 본문 문장수 : {df_o['sentenceCount'].mean()} ')"
   ]
  },
  {
   "cell_type": "markdown",
   "metadata": {},
   "source": [
    "#### 2. 제목과 본문 일치도"
   ]
  },
  {
   "cell_type": "code",
   "execution_count": 26,
   "metadata": {},
   "outputs": [
    {
     "name": "stderr",
     "output_type": "stream",
     "text": [
      "C:\\Users\\administ\\ipykernel_20968\\1939631648.py:5: SettingWithCopyWarning: \n",
      "A value is trying to be set on a copy of a slice from a DataFrame.\n",
      "Try using .loc[row_indexer,col_indexer] = value instead\n",
      "\n",
      "See the caveats in the documentation: https://pandas.pydata.org/pandas-docs/stable/user_guide/indexing.html#returning-a-view-versus-a-copy\n",
      "  df_x['일치도'] = df_x.apply(lambda row: levenshtein_distance(row['newsTitle'], row['newsContent']), axis=1)\n",
      "C:\\Users\\administ\\ipykernel_20968\\1939631648.py:6: SettingWithCopyWarning: \n",
      "A value is trying to be set on a copy of a slice from a DataFrame.\n",
      "Try using .loc[row_indexer,col_indexer] = value instead\n",
      "\n",
      "See the caveats in the documentation: https://pandas.pydata.org/pandas-docs/stable/user_guide/indexing.html#returning-a-view-versus-a-copy\n",
      "  df_o['일치도'] = df_o.apply(lambda row: levenshtein_distance(row['newsTitle'], row['newsContent']), axis=1)\n"
     ]
    }
   ],
   "source": [
    "import Levenshtein # Levenshtein 사용 \n",
    "def levenshtein_distance(s1, s2):\n",
    "    return Levenshtein.distance(s1, s2)\n",
    "\n",
    "df_x['일치도'] = df_x.apply(lambda row: levenshtein_distance(row['newsTitle'], row['newsContent']), axis=1)\n",
    "df_o['일치도'] = df_o.apply(lambda row: levenshtein_distance(row['newsTitle'], row['newsContent']), axis=1)"
   ]
  },
  {
   "cell_type": "code",
   "execution_count": 27,
   "metadata": {},
   "outputs": [
    {
     "name": "stdout",
     "output_type": "stream",
     "text": [
      "낚시기사x 제목/본문 일치도 : 1043.0070870729369 \n",
      "낚시기사 제목/본문 일치도 : 1041.6924624503793 \n"
     ]
    }
   ],
   "source": [
    "print(f'낚시기사x 제목/본문 일치도 : {df_x['일치도'].mean()} ')\n",
    "print(f'낚시기사 제목/본문 일치도 : {df_o['일치도'].mean()} ')\n",
    "# 일치도는 낚시기사 아닌것이 높앗음 = good"
   ]
  },
  {
   "cell_type": "code",
   "execution_count": 28,
   "metadata": {},
   "outputs": [
    {
     "name": "stderr",
     "output_type": "stream",
     "text": [
      "C:\\Users\\administ\\ipykernel_20968\\2262262308.py:8: SettingWithCopyWarning: \n",
      "A value is trying to be set on a copy of a slice from a DataFrame.\n",
      "Try using .loc[row_indexer,col_indexer] = value instead\n",
      "\n",
      "See the caveats in the documentation: https://pandas.pydata.org/pandas-docs/stable/user_guide/indexing.html#returning-a-view-versus-a-copy\n",
      "  df_x['유사도'] = df_x.apply(lambda row: similarity_score(row['newsTitle'], row['newsContent']), axis=1)\n",
      "C:\\Users\\administ\\ipykernel_20968\\2262262308.py:9: SettingWithCopyWarning: \n",
      "A value is trying to be set on a copy of a slice from a DataFrame.\n",
      "Try using .loc[row_indexer,col_indexer] = value instead\n",
      "\n",
      "See the caveats in the documentation: https://pandas.pydata.org/pandas-docs/stable/user_guide/indexing.html#returning-a-view-versus-a-copy\n",
      "  df_o['유사도'] = df_o.apply(lambda row: similarity_score(row['newsTitle'], row['newsContent']), axis=1)\n"
     ]
    }
   ],
   "source": [
    "import difflib\n",
    "\n",
    "def similarity_score(string1, string2):\n",
    "    matcher = difflib.SequenceMatcher(None, string1, string2)\n",
    "    return matcher.ratio()\n",
    "\n",
    "# 데이터프레임의 각 행에 대해 유사성 계산\n",
    "df_x['유사도'] = df_x.apply(lambda row: similarity_score(row['newsTitle'], row['newsContent']), axis=1)\n",
    "df_o['유사도'] = df_o.apply(lambda row: similarity_score(row['newsTitle'], row['newsContent']), axis=1)"
   ]
  },
  {
   "cell_type": "code",
   "execution_count": 31,
   "metadata": {},
   "outputs": [
    {
     "name": "stdout",
     "output_type": "stream",
     "text": [
      "낚시기사x 제목/본문 유사도 : 0.04480092962671489 \n",
      "낚시기사 제목/본문 유사도 : 0.04336602156106317\n"
     ]
    }
   ],
   "source": [
    "print(f'낚시기사x 제목/본문 유사도 : {df_x['유사도'].mean()} ')\n",
    "print(f'낚시기사 제목/본문 유사도 : {df_o['유사도'].mean()}')"
   ]
  },
  {
   "cell_type": "code",
   "execution_count": null,
   "metadata": {},
   "outputs": [],
   "source": []
  }
 ],
 "metadata": {
  "kernelspec": {
   "display_name": "test",
   "language": "python",
   "name": "python3"
  },
  "language_info": {
   "codemirror_mode": {
    "name": "ipython",
    "version": 3
   },
   "file_extension": ".py",
   "mimetype": "text/x-python",
   "name": "python",
   "nbconvert_exporter": "python",
   "pygments_lexer": "ipython3",
   "version": "3.10.11"
  }
 },
 "nbformat": 4,
 "nbformat_minor": 2
}
