{
 "cells": [
  {
   "cell_type": "markdown",
   "metadata": {},
   "source": [
    "## 사이트 자동 검색하기 "
   ]
  },
  {
   "cell_type": "code",
   "execution_count": 1,
   "metadata": {},
   "outputs": [],
   "source": [
    "from selenium import webdriver\n",
    "import time"
   ]
  },
  {
   "cell_type": "code",
   "execution_count": 6,
   "metadata": {},
   "outputs": [
    {
     "name": "stdout",
     "output_type": "stream",
     "text": [
      "====================================================================================================\n",
      "d이 크롤러는 RISS 사이트 논문 및 학술자료 수집 웹크롤러입니다\n",
      "====================================================================================================\n"
     ]
    },
    {
     "name": "stdout",
     "output_type": "stream",
     "text": [
      "\n",
      "\n"
     ]
    }
   ],
   "source": [
    "print('=' * 100)\n",
    "print('d이 크롤러는 RISS 사이트 논문 및 학술자료 수집 웹크롤러입니다')\n",
    "print('=' * 100)\n",
    "query_txt = input('1.수집할 자료의 키워드는 무엇입니까? 여러개일경우 . 로 구분하여 입력')\n",
    "print('\\n')\n",
    "\n",
    "driver = webdriver.Chrome()\n",
    "\n",
    "url = 'https://www.naver.com/'\n",
    "driver.get(url)\n",
    "time.sleep(5) # 페이지 열릴때까지 기다려라\n",
    "\n",
    "element = driver.find_element(\"id\", 'query') #id=query인 검색창 \n",
    "driver.find_element(\"id\", 'query').click() # 눌러라 \n",
    "element.send_keys(query_txt) # 검색할키워드 쳐라\n",
    "element.send_keys('\\n') # endter 키를 쳐라"
   ]
  },
  {
   "cell_type": "code",
   "execution_count": null,
   "metadata": {},
   "outputs": [],
   "source": []
  },
  {
   "cell_type": "code",
   "execution_count": null,
   "metadata": {},
   "outputs": [],
   "source": []
  }
 ],
 "metadata": {
  "kernelspec": {
   "display_name": "studyvenv",
   "language": "python",
   "name": "python3"
  },
  "language_info": {
   "codemirror_mode": {
    "name": "ipython",
    "version": 3
   },
   "file_extension": ".py",
   "mimetype": "text/x-python",
   "name": "python",
   "nbconvert_exporter": "python",
   "pygments_lexer": "ipython3",
   "version": "3.10.11"
  }
 },
 "nbformat": 4,
 "nbformat_minor": 2
}
